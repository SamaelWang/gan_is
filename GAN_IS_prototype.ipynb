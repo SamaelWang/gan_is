{
 "cells": [
  {
   "cell_type": "code",
   "execution_count": 1,
   "metadata": {},
   "outputs": [
    {
     "name": "stderr",
     "output_type": "stream",
     "text": [
      "/home/ben/anaconda3/lib/python3.6/site-packages/h5py/__init__.py:36: FutureWarning: Conversion of the second argument of issubdtype from `float` to `np.floating` is deprecated. In future, it will be treated as `np.float64 == np.dtype(float).type`.\n",
      "  from ._conv import register_converters as _register_converters\n"
     ]
    }
   ],
   "source": [
    "from functools import partial\n",
    "from math import exp, log\n",
    "import numpy as np\n",
    "import tensorflow as tf\n",
    "import matplotlib.pyplot as plt\n",
    "import seaborn as sns\n",
    "from scipy.stats import norm\n",
    "from cvxopt import matrix\n",
    "from cvxopt.blas import dot\n",
    "from cvxopt import solvers"
   ]
  },
  {
   "cell_type": "code",
   "execution_count": 2,
   "metadata": {},
   "outputs": [],
   "source": [
    "def gen_samples(dist_type):\n",
    "    if dist_type == 'normal':\n",
    "        def gen_norm_samples(nums, mu, sigma):\n",
    "            return np.random.randn(nums) * sigma + mu\n",
    "        return gen_norm_samples"
   ]
  },
  {
   "cell_type": "code",
   "execution_count": 3,
   "metadata": {},
   "outputs": [],
   "source": [
    "gen_norm_samples = gen_samples('normal')"
   ]
  },
  {
   "cell_type": "code",
   "execution_count": 4,
   "metadata": {},
   "outputs": [],
   "source": [
    "sample_func = partial(gen_norm_samples, mu=0.0, sigma=1.0)\n",
    "X = sample_func(100)"
   ]
  },
  {
   "cell_type": "code",
   "execution_count": 5,
   "metadata": {},
   "outputs": [],
   "source": [
    "def compute_gammak(arr_g, rho):\n",
    "    num = len(arr_g)\n",
    "    index = int(np.ceil((1-rho)*num))\n",
    "    arr_g.sort()\n",
    "    return arr_g[index - 1]"
   ]
  },
  {
   "cell_type": "code",
   "execution_count": 6,
   "metadata": {},
   "outputs": [],
   "source": [
    "gamma_0 = compute_gammak(X, 0.1)"
   ]
  },
  {
   "cell_type": "code",
   "execution_count": 7,
   "metadata": {},
   "outputs": [],
   "source": [
    "def gen_conditional_samples(num, gamma, sample_func):\n",
    "    res = np.empty((0))\n",
    "    rest_num = num\n",
    "    while rest_num > 0:\n",
    "        cur_samples = sample_func(num * 10)\n",
    "        res = np.concatenate((res, cur_samples[cur_samples > gamma]), axis=None)\n",
    "        rest_num = num - len(res)\n",
    "    return res[:num]"
   ]
  },
  {
   "cell_type": "code",
   "execution_count": 8,
   "metadata": {},
   "outputs": [],
   "source": [
    "X_0 = gen_conditional_samples(100, gamma_0, sample_func)"
   ]
  },
  {
   "cell_type": "code",
   "execution_count": 9,
   "metadata": {
    "scrolled": true
   },
   "outputs": [
    {
     "data": {
      "image/png": "[encoded data removed]",
      "text/plain": [
       "<Figure size 432x288 with 1 Axes>"
      ]
     },
     "metadata": {},
     "output_type": "display_data"
    }
   ],
   "source": [
    "# p_data\n",
    "xs = gen_conditional_samples(10000, gamma_0, sample_func)\n",
    "n, bins, patches = plt.hist(xs, 50, alpha=0.5)"
   ]
  },
  {
   "cell_type": "code",
   "execution_count": 10,
   "metadata": {},
   "outputs": [],
   "source": [
    "# one of the problem of GAN, easily to be more concentrated at \"high mode\"\n",
    "# techniques such as minibatch discrimination might help"
   ]
  },
  {
   "cell_type": "code",
   "execution_count": 11,
   "metadata": {},
   "outputs": [
    {
     "data": {
      "text/plain": [
       "1.2327918305345862"
      ]
     },
     "execution_count": 11,
     "metadata": {},
     "output_type": "execute_result"
    }
   ],
   "source": [
    "gamma_0"
   ]
  },
  {
   "cell_type": "code",
   "execution_count": 12,
   "metadata": {},
   "outputs": [],
   "source": [
    "### TODO: importance sampling GAN"
   ]
  },
  {
   "cell_type": "code",
   "execution_count": 13,
   "metadata": {},
   "outputs": [],
   "source": [
    "# currently we focus on one dimension normal random variable, g(X) = X\n",
    "# barrier func should be e^{-(x-y)^2}/2h-c/2(log(x-gamma)-log(y-gamma))^2\n",
    "def compute_sp(dist_type):\n",
    "    if dist_type == 'normal':\n",
    "        def normal_sp(x, mu, sigma):\n",
    "            return -(x-mu)/(2.0*sigma**2)\n",
    "        return normal_sp"
   ]
  },
  {
   "cell_type": "code",
   "execution_count": 14,
   "metadata": {},
   "outputs": [],
   "source": [
    "def compute_kernel_info(kernel_type):\n",
    "    if kernel_type == 'normal_barrier':\n",
    "        def normal_barrier(x, y, h, c, gamma):   #TODO: g(x) might be needed in the future, SymPy might be useful to compute symbolic derivative\n",
    "            kernel_info = {}\n",
    "            kernel_info['kernel'] = np.exp(-(x-y)*(x-y)/(2.0*h)-(c*(np.log(x-gamma)-np.log(y-gamma))*(np.log(x-gamma)-np.log(y-gamma)))/2.0)\n",
    "            kernel_info['grad_x'] = kernel_info['kernel'] * (-(x-y)/h-c*(np.log(x-gamma)-np.log(y-gamma))/(x-gamma))\n",
    "            kernel_info['grad_y'] = kernel_info['kernel'] * ((x-y)/h+c*(np.log(x-gamma)-np.log(y-gamma))/(y-gamma))\n",
    "            kernel_info['hessian'] = kernel_info['grad_y']*(-(x-y)/h-c*(np.log(x-gamma)-np.log(y-gamma))/(x-gamma)) +\\\n",
    "            kernel_info['kernel']*(1.0/h+c/((x-gamma)*(y-gamma)))\n",
    "            return kernel_info\n",
    "        return normal_barrier"
   ]
  },
  {
   "cell_type": "code",
   "execution_count": 15,
   "metadata": {},
   "outputs": [],
   "source": [
    "# compute kernel p\n",
    "def compute_kernel_p(x, y, sp, kernel_info):\n",
    "    kernel_vals = kernel_info(x,y)\n",
    "    kernel = kernel_vals['kernel']\n",
    "    grad_x = kernel_vals['grad_x']\n",
    "    grad_y = kernel_vals['grad_y']\n",
    "    hessian_kernel = kernel_vals['hessian']\n",
    "    return sp(x)*kernel*sp(y) + sp(x)*grad_y + sp(y)*grad_x + hessian_kernel"
   ]
  },
  {
   "cell_type": "code",
   "execution_count": 16,
   "metadata": {},
   "outputs": [],
   "source": [
    "# compute blackbox importance weights"
   ]
  },
  {
   "cell_type": "code",
   "execution_count": 17,
   "metadata": {},
   "outputs": [],
   "source": [
    "def compute_Kp(samples, sp_input, ki_input):\n",
    "    n = len(samples)\n",
    "    Kp = np.zeros((n,n))\n",
    "    p_kernel = partial(compute_kernel_p, sp=sp_input, kernel_info=ki_input)\n",
    "    idx = np.array([[i, j] for i in range(n) for j in range(i, n)])\n",
    "    s1 = samples[idx[:,0]]\n",
    "    s2 = samples[idx[:,1]]\n",
    "    res = p_kernel(s1, s2)\n",
    "    Kp[np.triu_indices(n)] = res\n",
    "    Kp = matrix(Kp.T+Kp-np.diag(np.diag(Kp)))\n",
    "    return Kp"
   ]
  },
  {
   "cell_type": "code",
   "execution_count": 18,
   "metadata": {},
   "outputs": [],
   "source": [
    "def compute_is_weights(Kp):\n",
    "    n = Kp.size[0]\n",
    "    p = matrix(0.0, (n,1))\n",
    "    G = matrix(0.0, (n,n))\n",
    "    G[::n+1] = -1.0\n",
    "    h = matrix(0.0, (n,1))\n",
    "    A = matrix(1.0, (1,n))\n",
    "    b = matrix(1.0)\n",
    "    res = solvers.qp(Kp, p, G, h, A, b)\n",
    "    wi = np.array(res['x'])\n",
    "    return wi"
   ]
  },
  {
   "cell_type": "code",
   "execution_count": 19,
   "metadata": {},
   "outputs": [],
   "source": [
    "solvers.options['show_progress'] = False"
   ]
  },
  {
   "cell_type": "code",
   "execution_count": 24,
   "metadata": {},
   "outputs": [],
   "source": [
    "class ISGAN(object):\n",
    "    \n",
    "    def __init__(self, gan_id, sess, total_epoch, batch_size, n_input, n_noise, n_hidden, early_stopping_rounds, learning_rate, gamma_0, is_enabled):\n",
    "        self.gan_id = gan_id\n",
    "        self.sess = sess\n",
    "        self.total_epoch = total_epoch\n",
    "        self.batch_size = batch_size\n",
    "        self.n_input = n_input\n",
    "        self.n_noise = n_noise\n",
    "        self.n_hidden = n_hidden\n",
    "        self.early_stopping_rounds = early_stopping_rounds\n",
    "        self.learning_rate = learning_rate\n",
    "        self.gamma_0 = gamma_0\n",
    "        self.is_enabled = is_enabled\n",
    "        if self.is_enabled:\n",
    "            normal_sp = compute_sp('normal')\n",
    "            self.std_normal_sp = partial(normal_sp, mu=0.0, sigma=1.0)\n",
    "            normal_barrier = compute_kernel_info('normal_barrier')\n",
    "            self.normal_barrier_param = partial(normal_barrier, h=1.0, c=1.0, gamma=self.gamma_0)\n",
    "        \n",
    "    def generator(self, noise_z):\n",
    "        with tf.variable_scope('generator' + self.gan_id) :\n",
    "            hidden_1 = tf.layers.dense(inputs=noise_z, units=self.n_hidden, activation=tf.nn.relu)\n",
    "            hidden_2 = tf.layers.dense(inputs=hidden_1, units=self.n_hidden, activation=tf.nn.relu)\n",
    "            output = tf.layers.dense(inputs=hidden_2, units=self.n_input, activation=tf.nn.softplus)\n",
    "        return output\n",
    "\n",
    "    def discriminator(self, inputs, reuse=None):\n",
    "        with tf.variable_scope('discriminator' + self.gan_id) as scope:\n",
    "            # In order to make the variables of the models that discriminate the actual image from the images generated by the noise the same,\n",
    "            # Reuse the previously used variables.\n",
    "\n",
    "            if reuse :\n",
    "                scope.reuse_variables()\n",
    "\n",
    "            hidden = tf.layers.dense(inputs=inputs, units=self.n_hidden, activation=tf.nn.relu)\n",
    "            output = tf.layers.dense(inputs=hidden, units=self.n_input, activation=tf.nn.sigmoid)\n",
    "        return output\n",
    "\n",
    "    def get_noise(self, batch_size, n_noise) :\n",
    "        #return (np.random.random(size=(batch_size, n_noise))-0.5)*2.0\n",
    "        return np.random.normal(size=(batch_size, n_noise))\n",
    "    \n",
    "    def build_model(self):\n",
    "        # input X\n",
    "        self.X = tf.placeholder(tf.float32, [None, self.n_input])\n",
    "        # Use noise Z as input value.\n",
    "        self.Z = tf.placeholder(tf.float32, [None, self.n_noise])\n",
    "        # Importance weights W\n",
    "        self.W = tf.placeholder(tf.float32, [None, self.n_input])\n",
    "        self.G = self.generator(self.Z)\n",
    "        # Returns the value determined using the real image.\n",
    "        self.D_real = tf.maximum(tf.minimum(self.discriminator(self.X), 0.99), 0.01)\n",
    "        # Returns a value that determines whether the image created using noise is a real image.\n",
    "        self.D_gene = tf.maximum(tf.minimum(self.discriminator(self.G, reuse=True), 0.99), 0.01)\n",
    "        self.loss_D = tf.reduce_mean(tf.multiply(tf.log(self.D_real), self.W) + tf.log(1 - self.D_gene))\n",
    "        #tf.summary.scalar('loss_D', -self.loss_D)\n",
    "        self.loss_G = tf.reduce_mean(tf.log(self.D_gene))\n",
    "        #tf.summary.scalar('loss_G', -self.loss_G)\n",
    "        # When loss_D is obtained, only variables used in the generator neural network are used,\n",
    "        vars_D = tf.get_collection(tf.GraphKeys.TRAINABLE_VARIABLES, scope='discriminator' + self.gan_id)\n",
    "        vars_G = tf.get_collection(tf.GraphKeys.TRAINABLE_VARIABLES, scope='generator' + self.gan_id)\n",
    "        # According to the GAN thesis formula, the loss should be maximized, but since the optimization function is used to minimize it, a negative sign is added to loss_D and loss_G to be optimized.\n",
    "        self.train_D = tf.train.GradientDescentOptimizer(learning_rate=self.learning_rate).minimize(-self.loss_D, var_list=vars_D)\n",
    "        #train_D = tf.train.AdamOptimizer(learning_rate=learning_rate).minimize(-loss_D, var_list=vars_D)\n",
    "        self.train_G = tf.train.AdamOptimizer(learning_rate=self.learning_rate).minimize(-self.loss_G, var_list=vars_G)\n",
    "        \n",
    "    \n",
    "    def train(self, sampling_func):\n",
    "        self.histd, self.histg = [], []\n",
    "        # Start training !\n",
    "        k = 4\n",
    "        self.sess.run(tf.global_variables_initializer())\n",
    "        loss_val_D, loss_val_G = 0.0, 0.0\n",
    "        prev_avg_D_cost = 0.0\n",
    "        prev_avg_G_cost = 0.0\n",
    "        for epoch in range(self.total_epoch):\n",
    "            avg_D_cost = 0.0\n",
    "            avg_G_cost = 0.0\n",
    "            for i in range(self.early_stopping_rounds):\n",
    "                for j in range(k):\n",
    "                    batch_x = gen_conditional_samples(self.batch_size, self.gamma_0, sampling_func)\n",
    "                    batch_x.sort() # it's better to sort the data first\n",
    "                    if self.is_enabled == True:\n",
    "                        Kp = compute_Kp(batch_x, self.std_normal_sp, self.normal_barrier_param)\n",
    "                        is_weights = np.reshape(compute_is_weights(Kp), (self.batch_size, 1))\n",
    "                    else:\n",
    "                        is_weights = np.ones((self.batch_size, 1))\n",
    "                    noise = self.get_noise(self.batch_size, self.n_noise)\n",
    "                    noise.sort(axis=0)\n",
    "                    # It learns discriminator and generator neural network separately.\n",
    "                    _, loss_val_D = self.sess.run([self.train_D, self.loss_D],\n",
    "                                                 feed_dict={self.X : np.reshape(batch_x, (self.batch_size, 1)), self.Z : noise, self.W: is_weights})\n",
    "                    # replace np.ones with other weights\n",
    "                self.histd.append(loss_val_D)\n",
    "                noise = self.get_noise(self.batch_size, self.n_noise)\n",
    "                noise.sort(axis=0)\n",
    "                _, loss_val_G = self.sess.run([self.train_G, self.loss_G],\n",
    "                                             feed_dict={self.Z : noise})\n",
    "                self.histg.append(loss_val_G)\n",
    "                avg_D_cost += loss_val_D / self.early_stopping_rounds\n",
    "                avg_G_cost += loss_val_G / self.early_stopping_rounds\n",
    "                #if (epoch*self.early_stopping_rounds+i) % (self.total_epoch * self.early_stopping_rounds//10) == 0:\n",
    "                #    print(float(epoch*self.early_stopping_rounds+i)/float(self.total_epoch * self.early_stopping_rounds))\n",
    "            # early stopping logic\n",
    "            if np.abs(prev_avg_D_cost - avg_D_cost) < 0.0001 and np.abs(prev_avg_G_cost - avg_G_cost) < 0.0001:\n",
    "                print(\"Stopping early, epoch = \", epoch)\n",
    "                break\n",
    "            prev_avg_D_cost = avg_D_cost\n",
    "            prev_avg_G_cost = avg_G_cost\n",
    "            if epoch % 10 == 0:\n",
    "                print(epoch)\n",
    "            #summary = sess.run(merged, feed_dict={X: np.reshape(batch_x, (batch_size, 1)), Z: noise})\n",
    "            #writer.add_summary(summary, global_step=epoch)\n",
    "                \n",
    "    \n",
    "    def gan_sampler(self, n):\n",
    "        if n < self.batch_size:\n",
    "            z = self.get_noise(self.batch_size, self.n_noise)\n",
    "            gs = self.sess.run(self.G, {self.Z:z})\n",
    "            return gs[:n][:,0]\n",
    "        else:\n",
    "            gs = np.zeros((n,self.n_input))\n",
    "            div = n // self.batch_size\n",
    "            rem = n % self.batch_size\n",
    "            for i in range(div):\n",
    "                z = self.get_noise(self.batch_size, 1)\n",
    "                gs[self.batch_size*i:self.batch_size*(i+1)] = self.sess.run(self.G, {self.Z:z})\n",
    "            z = self.get_noise(rem, self.n_noise)\n",
    "            gs[div*self.batch_size:] = self.sess.run(self.G, {self.Z:z})\n",
    "            return gs[:,0]"
   ]
  },
  {
   "cell_type": "code",
   "execution_count": 25,
   "metadata": {},
   "outputs": [
    {
     "name": "stdout",
     "output_type": "stream",
     "text": [
      "0\n",
      "10\n",
      "20\n",
      "30\n",
      "40\n",
      "50\n",
      "60\n",
      "70\n",
      "80\n",
      "90\n",
      "100\n",
      "Stopping early, epoch =  104\n"
     ]
    },
    {
     "data": {
      "image/png": "[encoded data removed]",
      "text/plain": [
       "<Figure size 432x288 with 1 Axes>"
      ]
     },
     "metadata": {},
     "output_type": "display_data"
    }
   ],
   "source": [
    "tf.reset_default_graph()\n",
    "with tf.Session() as sess:\n",
    "    gan = ISGAN('-1', sess, 5000, 200, 1, 1, 6, 50, 0.0003, gamma_0, False)\n",
    "    gan.build_model()\n",
    "    gan.train(sample_func) # input is weights\n",
    "    gs = gan.gan_sampler(100000)\n",
    "    n, bins, patches = plt.hist(gs, 50, alpha=0.5)"
   ]
  },
  {
   "cell_type": "code",
   "execution_count": 26,
   "metadata": {},
   "outputs": [
    {
     "data": {
      "text/plain": [
       "<matplotlib.legend.Legend at 0x7f52318848d0>"
      ]
     },
     "execution_count": 26,
     "metadata": {},
     "output_type": "execute_result"
    },
    {
     "data": {
      "image/png": "[encoded data removed]",
      "text/plain": [
       "<Figure size 432x288 with 1 Axes>"
      ]
     },
     "metadata": {},
     "output_type": "display_data"
    }
   ],
   "source": [
    "plt.plot(range(len(gan.histd)), gan.histd, label='obj_d')\n",
    "plt.plot(range(len(gan.histg)), gan.histg, label='obj_g')\n",
    "plt.legend()"
   ]
  },
  {
   "cell_type": "code",
   "execution_count": 27,
   "metadata": {},
   "outputs": [
    {
     "name": "stdout",
     "output_type": "stream",
     "text": [
      "0\n",
      "10\n",
      "20\n",
      "30\n",
      "40\n",
      "50\n",
      "60\n",
      "Stopping early, epoch =  65\n",
      "0\n",
      "10\n",
      "20\n",
      "30\n",
      "40\n",
      "50\n",
      "60\n",
      "70\n",
      "80\n",
      "90\n",
      "100\n",
      "110\n",
      "120\n",
      "130\n",
      "140\n",
      "150\n",
      "160\n",
      "170\n",
      "180\n",
      "190\n",
      "200\n",
      "210\n",
      "220\n",
      "230\n",
      "240\n",
      "250\n",
      "260\n",
      "270\n",
      "280\n",
      "290\n",
      "300\n",
      "310\n",
      "320\n",
      "330\n",
      "340\n",
      "350\n",
      "Stopping early, epoch =  356\n"
     ]
    },
    {
     "ename": "ValueError",
     "evalue": "Rank(A) < p or Rank([P; A; G]) < n",
     "output_type": "error",
     "traceback": [
      "\u001b[0;31m---------------------------------------------------------------------------\u001b[0m",
      "\u001b[0;31mArithmeticError\u001b[0m                           Traceback (most recent call last)",
      "\u001b[0;32m~/anaconda3/lib/python3.6/site-packages/cvxopt/misc.py\u001b[0m in \u001b[0;36mfactor\u001b[0;34m(W, H, Df)\u001b[0m\n\u001b[1;32m   1428\u001b[0m                 \u001b[0;32mif\u001b[0m \u001b[0mtype\u001b[0m\u001b[0;34m(\u001b[0m\u001b[0mF\u001b[0m\u001b[0;34m[\u001b[0m\u001b[0;34m'S'\u001b[0m\u001b[0;34m]\u001b[0m\u001b[0;34m)\u001b[0m \u001b[0;32mis\u001b[0m \u001b[0mmatrix\u001b[0m\u001b[0;34m:\u001b[0m\u001b[0;34m\u001b[0m\u001b[0m\n\u001b[0;32m-> 1429\u001b[0;31m                     \u001b[0mlapack\u001b[0m\u001b[0;34m.\u001b[0m\u001b[0mpotrf\u001b[0m\u001b[0;34m(\u001b[0m\u001b[0mF\u001b[0m\u001b[0;34m[\u001b[0m\u001b[0;34m'S'\u001b[0m\u001b[0;34m]\u001b[0m\u001b[0;34m)\u001b[0m\u001b[0;34m\u001b[0m\u001b[0m\n\u001b[0m\u001b[1;32m   1430\u001b[0m                 \u001b[0;32melse\u001b[0m\u001b[0;34m:\u001b[0m\u001b[0;34m\u001b[0m\u001b[0m\n",
      "\u001b[0;31mArithmeticError\u001b[0m: 11",
      "\nDuring handling of the above exception, another exception occurred:\n",
      "\u001b[0;31mArithmeticError\u001b[0m                           Traceback (most recent call last)",
      "\u001b[0;32m~/anaconda3/lib/python3.6/site-packages/cvxopt/coneprog.py\u001b[0m in \u001b[0;36mconeqp\u001b[0;34m(P, q, G, h, dims, A, b, initvals, kktsolver, xnewcopy, xdot, xaxpy, xscal, ynewcopy, ydot, yaxpy, yscal, **kwargs)\u001b[0m\n\u001b[1;32m   2064\u001b[0m         \u001b[0;32mfor\u001b[0m \u001b[0mrti\u001b[0m \u001b[0;32min\u001b[0m \u001b[0mW\u001b[0m\u001b[0;34m[\u001b[0m\u001b[0;34m'rti'\u001b[0m\u001b[0;34m]\u001b[0m\u001b[0;34m:\u001b[0m \u001b[0mrti\u001b[0m\u001b[0;34m[\u001b[0m\u001b[0;34m:\u001b[0m\u001b[0;34m:\u001b[0m\u001b[0mrti\u001b[0m\u001b[0;34m.\u001b[0m\u001b[0msize\u001b[0m\u001b[0;34m[\u001b[0m\u001b[0;36m0\u001b[0m\u001b[0;34m]\u001b[0m\u001b[0;34m+\u001b[0m\u001b[0;36m1\u001b[0m \u001b[0;34m]\u001b[0m \u001b[0;34m=\u001b[0m \u001b[0;36m1.0\u001b[0m\u001b[0;34m\u001b[0m\u001b[0m\n\u001b[0;32m-> 2065\u001b[0;31m         \u001b[0;32mtry\u001b[0m\u001b[0;34m:\u001b[0m \u001b[0mf\u001b[0m \u001b[0;34m=\u001b[0m \u001b[0mkktsolver\u001b[0m\u001b[0;34m(\u001b[0m\u001b[0mW\u001b[0m\u001b[0;34m)\u001b[0m\u001b[0;34m\u001b[0m\u001b[0m\n\u001b[0m\u001b[1;32m   2066\u001b[0m         \u001b[0;32mexcept\u001b[0m \u001b[0mArithmeticError\u001b[0m\u001b[0;34m:\u001b[0m\u001b[0;34m\u001b[0m\u001b[0m\n",
      "\u001b[0;32m~/anaconda3/lib/python3.6/site-packages/cvxopt/coneprog.py\u001b[0m in \u001b[0;36mkktsolver\u001b[0;34m(W)\u001b[0m\n\u001b[1;32m   1980\u001b[0m          \u001b[0;32mdef\u001b[0m \u001b[0mkktsolver\u001b[0m\u001b[0;34m(\u001b[0m\u001b[0mW\u001b[0m\u001b[0;34m)\u001b[0m\u001b[0;34m:\u001b[0m\u001b[0;34m\u001b[0m\u001b[0m\n\u001b[0;32m-> 1981\u001b[0;31m              \u001b[0;32mreturn\u001b[0m \u001b[0mfactor\u001b[0m\u001b[0;34m(\u001b[0m\u001b[0mW\u001b[0m\u001b[0;34m,\u001b[0m \u001b[0mP\u001b[0m\u001b[0;34m)\u001b[0m\u001b[0;34m\u001b[0m\u001b[0m\n\u001b[0m\u001b[1;32m   1982\u001b[0m \u001b[0;34m\u001b[0m\u001b[0m\n",
      "\u001b[0;32m~/anaconda3/lib/python3.6/site-packages/cvxopt/misc.py\u001b[0m in \u001b[0;36mfactor\u001b[0;34m(W, H, Df)\u001b[0m\n\u001b[1;32m   1443\u001b[0m                 \u001b[0;32mif\u001b[0m \u001b[0mtype\u001b[0m\u001b[0;34m(\u001b[0m\u001b[0mF\u001b[0m\u001b[0;34m[\u001b[0m\u001b[0;34m'S'\u001b[0m\u001b[0;34m]\u001b[0m\u001b[0;34m)\u001b[0m \u001b[0;32mis\u001b[0m \u001b[0mmatrix\u001b[0m\u001b[0;34m:\u001b[0m\u001b[0;34m\u001b[0m\u001b[0m\n\u001b[0;32m-> 1444\u001b[0;31m                     \u001b[0mlapack\u001b[0m\u001b[0;34m.\u001b[0m\u001b[0mpotrf\u001b[0m\u001b[0;34m(\u001b[0m\u001b[0mF\u001b[0m\u001b[0;34m[\u001b[0m\u001b[0;34m'S'\u001b[0m\u001b[0;34m]\u001b[0m\u001b[0;34m)\u001b[0m\u001b[0;34m\u001b[0m\u001b[0m\n\u001b[0m\u001b[1;32m   1445\u001b[0m                 \u001b[0;32melse\u001b[0m\u001b[0;34m:\u001b[0m\u001b[0;34m\u001b[0m\u001b[0m\n",
      "\u001b[0;31mArithmeticError\u001b[0m: 11",
      "\nDuring handling of the above exception, another exception occurred:\n",
      "\u001b[0;31mValueError\u001b[0m                                Traceback (most recent call last)",
      "\u001b[0;32m<ipython-input-27-5bc8be47915e>\u001b[0m in \u001b[0;36m<module>\u001b[0;34m()\u001b[0m\n\u001b[1;32m     17\u001b[0m     \u001b[0mcur_gan\u001b[0m \u001b[0;34m=\u001b[0m \u001b[0mISGAN\u001b[0m\u001b[0;34m(\u001b[0m\u001b[0mstr\u001b[0m\u001b[0;34m(\u001b[0m\u001b[0midx\u001b[0m\u001b[0;34m)\u001b[0m\u001b[0;34m,\u001b[0m \u001b[0mcur_sess\u001b[0m\u001b[0;34m,\u001b[0m \u001b[0;36m5000\u001b[0m\u001b[0;34m,\u001b[0m \u001b[0;36m200\u001b[0m\u001b[0;34m,\u001b[0m \u001b[0;36m1\u001b[0m\u001b[0;34m,\u001b[0m \u001b[0;36m1\u001b[0m\u001b[0;34m,\u001b[0m \u001b[0;36m6\u001b[0m\u001b[0;34m,\u001b[0m \u001b[0;36m50\u001b[0m\u001b[0;34m,\u001b[0m \u001b[0;36m0.0003\u001b[0m\u001b[0;34m,\u001b[0m \u001b[0mcur_gamma\u001b[0m\u001b[0;34m,\u001b[0m \u001b[0;32mTrue\u001b[0m\u001b[0;34m)\u001b[0m\u001b[0;34m\u001b[0m\u001b[0m\n\u001b[1;32m     18\u001b[0m     \u001b[0mcur_gan\u001b[0m\u001b[0;34m.\u001b[0m\u001b[0mbuild_model\u001b[0m\u001b[0;34m(\u001b[0m\u001b[0;34m)\u001b[0m\u001b[0;34m\u001b[0m\u001b[0m\n\u001b[0;32m---> 19\u001b[0;31m     \u001b[0mcur_gan\u001b[0m\u001b[0;34m.\u001b[0m\u001b[0mtrain\u001b[0m\u001b[0;34m(\u001b[0m\u001b[0mprev_gan\u001b[0m\u001b[0;34m.\u001b[0m\u001b[0mgan_sampler\u001b[0m\u001b[0;34m)\u001b[0m\u001b[0;34m\u001b[0m\u001b[0m\n\u001b[0m\u001b[1;32m     20\u001b[0m     \u001b[0mcur_gamma\u001b[0m \u001b[0;34m=\u001b[0m \u001b[0mcompute_gammak\u001b[0m\u001b[0;34m(\u001b[0m\u001b[0mcur_gan\u001b[0m\u001b[0;34m.\u001b[0m\u001b[0mgan_sampler\u001b[0m\u001b[0;34m(\u001b[0m\u001b[0;36m1000\u001b[0m\u001b[0;34m)\u001b[0m\u001b[0;34m,\u001b[0m \u001b[0;36m0.1\u001b[0m\u001b[0;34m)\u001b[0m\u001b[0;34m\u001b[0m\u001b[0m\n\u001b[1;32m     21\u001b[0m     \u001b[0mprev_gan\u001b[0m \u001b[0;34m=\u001b[0m \u001b[0mcur_gan\u001b[0m\u001b[0;34m\u001b[0m\u001b[0m\n",
      "\u001b[0;32m<ipython-input-24-66a3d9056c59>\u001b[0m in \u001b[0;36mtrain\u001b[0;34m(self, sampling_func)\u001b[0m\n\u001b[1;32m     84\u001b[0m                     \u001b[0;32mif\u001b[0m \u001b[0mself\u001b[0m\u001b[0;34m.\u001b[0m\u001b[0mis_enabled\u001b[0m \u001b[0;34m==\u001b[0m \u001b[0;32mTrue\u001b[0m\u001b[0;34m:\u001b[0m\u001b[0;34m\u001b[0m\u001b[0m\n\u001b[1;32m     85\u001b[0m                         \u001b[0mKp\u001b[0m \u001b[0;34m=\u001b[0m \u001b[0mcompute_Kp\u001b[0m\u001b[0;34m(\u001b[0m\u001b[0mbatch_x\u001b[0m\u001b[0;34m,\u001b[0m \u001b[0mself\u001b[0m\u001b[0;34m.\u001b[0m\u001b[0mstd_normal_sp\u001b[0m\u001b[0;34m,\u001b[0m \u001b[0mself\u001b[0m\u001b[0;34m.\u001b[0m\u001b[0mnormal_barrier_param\u001b[0m\u001b[0;34m)\u001b[0m\u001b[0;34m\u001b[0m\u001b[0m\n\u001b[0;32m---> 86\u001b[0;31m                         \u001b[0mis_weights\u001b[0m \u001b[0;34m=\u001b[0m \u001b[0mnp\u001b[0m\u001b[0;34m.\u001b[0m\u001b[0mreshape\u001b[0m\u001b[0;34m(\u001b[0m\u001b[0mcompute_is_weights\u001b[0m\u001b[0;34m(\u001b[0m\u001b[0mKp\u001b[0m\u001b[0;34m)\u001b[0m\u001b[0;34m,\u001b[0m \u001b[0;34m(\u001b[0m\u001b[0mself\u001b[0m\u001b[0;34m.\u001b[0m\u001b[0mbatch_size\u001b[0m\u001b[0;34m,\u001b[0m \u001b[0;36m1\u001b[0m\u001b[0;34m)\u001b[0m\u001b[0;34m)\u001b[0m\u001b[0;34m\u001b[0m\u001b[0m\n\u001b[0m\u001b[1;32m     87\u001b[0m                     \u001b[0;32melse\u001b[0m\u001b[0;34m:\u001b[0m\u001b[0;34m\u001b[0m\u001b[0m\n\u001b[1;32m     88\u001b[0m                         \u001b[0mis_weights\u001b[0m \u001b[0;34m=\u001b[0m \u001b[0mnp\u001b[0m\u001b[0;34m.\u001b[0m\u001b[0mones\u001b[0m\u001b[0;34m(\u001b[0m\u001b[0;34m(\u001b[0m\u001b[0mself\u001b[0m\u001b[0;34m.\u001b[0m\u001b[0mbatch_size\u001b[0m\u001b[0;34m,\u001b[0m \u001b[0;36m1\u001b[0m\u001b[0;34m)\u001b[0m\u001b[0;34m)\u001b[0m\u001b[0;34m\u001b[0m\u001b[0m\n",
      "\u001b[0;32m<ipython-input-18-e088f2292a8f>\u001b[0m in \u001b[0;36mcompute_is_weights\u001b[0;34m(Kp)\u001b[0m\n\u001b[1;32m      7\u001b[0m     \u001b[0mA\u001b[0m \u001b[0;34m=\u001b[0m \u001b[0mmatrix\u001b[0m\u001b[0;34m(\u001b[0m\u001b[0;36m1.0\u001b[0m\u001b[0;34m,\u001b[0m \u001b[0;34m(\u001b[0m\u001b[0;36m1\u001b[0m\u001b[0;34m,\u001b[0m\u001b[0mn\u001b[0m\u001b[0;34m)\u001b[0m\u001b[0;34m)\u001b[0m\u001b[0;34m\u001b[0m\u001b[0m\n\u001b[1;32m      8\u001b[0m     \u001b[0mb\u001b[0m \u001b[0;34m=\u001b[0m \u001b[0mmatrix\u001b[0m\u001b[0;34m(\u001b[0m\u001b[0;36m1.0\u001b[0m\u001b[0;34m)\u001b[0m\u001b[0;34m\u001b[0m\u001b[0m\n\u001b[0;32m----> 9\u001b[0;31m     \u001b[0mres\u001b[0m \u001b[0;34m=\u001b[0m \u001b[0msolvers\u001b[0m\u001b[0;34m.\u001b[0m\u001b[0mqp\u001b[0m\u001b[0;34m(\u001b[0m\u001b[0mKp\u001b[0m\u001b[0;34m,\u001b[0m \u001b[0mp\u001b[0m\u001b[0;34m,\u001b[0m \u001b[0mG\u001b[0m\u001b[0;34m,\u001b[0m \u001b[0mh\u001b[0m\u001b[0;34m,\u001b[0m \u001b[0mA\u001b[0m\u001b[0;34m,\u001b[0m \u001b[0mb\u001b[0m\u001b[0;34m)\u001b[0m\u001b[0;34m\u001b[0m\u001b[0m\n\u001b[0m\u001b[1;32m     10\u001b[0m     \u001b[0mwi\u001b[0m \u001b[0;34m=\u001b[0m \u001b[0mnp\u001b[0m\u001b[0;34m.\u001b[0m\u001b[0marray\u001b[0m\u001b[0;34m(\u001b[0m\u001b[0mres\u001b[0m\u001b[0;34m[\u001b[0m\u001b[0;34m'x'\u001b[0m\u001b[0;34m]\u001b[0m\u001b[0;34m)\u001b[0m\u001b[0;34m\u001b[0m\u001b[0m\n\u001b[1;32m     11\u001b[0m     \u001b[0;32mreturn\u001b[0m \u001b[0mwi\u001b[0m\u001b[0;34m\u001b[0m\u001b[0m\n",
      "\u001b[0;32m~/anaconda3/lib/python3.6/site-packages/cvxopt/coneprog.py\u001b[0m in \u001b[0;36mqp\u001b[0;34m(P, q, G, h, A, b, solver, kktsolver, initvals, **kwargs)\u001b[0m\n\u001b[1;32m   4485\u001b[0m             'residual as dual infeasibility certificate': dinfres}\n\u001b[1;32m   4486\u001b[0m \u001b[0;34m\u001b[0m\u001b[0m\n\u001b[0;32m-> 4487\u001b[0;31m     \u001b[0;32mreturn\u001b[0m \u001b[0mconeqp\u001b[0m\u001b[0;34m(\u001b[0m\u001b[0mP\u001b[0m\u001b[0;34m,\u001b[0m \u001b[0mq\u001b[0m\u001b[0;34m,\u001b[0m \u001b[0mG\u001b[0m\u001b[0;34m,\u001b[0m \u001b[0mh\u001b[0m\u001b[0;34m,\u001b[0m \u001b[0;32mNone\u001b[0m\u001b[0;34m,\u001b[0m \u001b[0mA\u001b[0m\u001b[0;34m,\u001b[0m  \u001b[0mb\u001b[0m\u001b[0;34m,\u001b[0m \u001b[0minitvals\u001b[0m\u001b[0;34m,\u001b[0m \u001b[0mkktsolver\u001b[0m \u001b[0;34m=\u001b[0m \u001b[0mkktsolver\u001b[0m\u001b[0;34m,\u001b[0m \u001b[0moptions\u001b[0m \u001b[0;34m=\u001b[0m \u001b[0moptions\u001b[0m\u001b[0;34m)\u001b[0m\u001b[0;34m\u001b[0m\u001b[0m\n\u001b[0m",
      "\u001b[0;32m~/anaconda3/lib/python3.6/site-packages/cvxopt/coneprog.py\u001b[0m in \u001b[0;36mconeqp\u001b[0;34m(P, q, G, h, dims, A, b, initvals, kktsolver, xnewcopy, xdot, xaxpy, xscal, ynewcopy, ydot, yaxpy, yscal, **kwargs)\u001b[0m\n\u001b[1;32m   2065\u001b[0m         \u001b[0;32mtry\u001b[0m\u001b[0;34m:\u001b[0m \u001b[0mf\u001b[0m \u001b[0;34m=\u001b[0m \u001b[0mkktsolver\u001b[0m\u001b[0;34m(\u001b[0m\u001b[0mW\u001b[0m\u001b[0;34m)\u001b[0m\u001b[0;34m\u001b[0m\u001b[0m\n\u001b[1;32m   2066\u001b[0m         \u001b[0;32mexcept\u001b[0m \u001b[0mArithmeticError\u001b[0m\u001b[0;34m:\u001b[0m\u001b[0;34m\u001b[0m\u001b[0m\n\u001b[0;32m-> 2067\u001b[0;31m             \u001b[0;32mraise\u001b[0m \u001b[0mValueError\u001b[0m\u001b[0;34m(\u001b[0m\u001b[0;34m\"Rank(A) < p or Rank([P; A; G]) < n\"\u001b[0m\u001b[0;34m)\u001b[0m\u001b[0;34m\u001b[0m\u001b[0m\n\u001b[0m\u001b[1;32m   2068\u001b[0m \u001b[0;34m\u001b[0m\u001b[0m\n\u001b[1;32m   2069\u001b[0m \u001b[0;34m\u001b[0m\u001b[0m\n",
      "\u001b[0;31mValueError\u001b[0m: Rank(A) < p or Rank([P; A; G]) < n"
     ]
    }
   ],
   "source": [
    "gamma = 5\n",
    "X = sample_func(1000)\n",
    "gamma_0 = compute_gammak(X, 0.1)\n",
    "X_0 = gen_conditional_samples(1000, gamma_0, sample_func)\n",
    "sess = tf.Session()\n",
    "gan = ISGAN('0', sess, 5000, 200, 1, 1, 6, 50, 0.0003, gamma_0, False)\n",
    "gan.build_model()\n",
    "gan.train(sample_func)\n",
    "X_theta0 = gan.gan_sampler(1000)\n",
    "cur_gamma = compute_gammak(X_theta0, 0.1)\n",
    "idx = 1\n",
    "prev_gan = gan\n",
    "while cur_gamma < gamma:\n",
    "#X_theta1 = gen_conditional_samples(1000, cur_gamma, gan.gan_sampler)\n",
    "#conditional_gan_sampler = partial(gen_conditional_samples, gamma=cur_gamma, sample_func=gan.gan_sampler)\n",
    "    cur_sess = tf.Session()\n",
    "    cur_gan = ISGAN(str(idx), cur_sess, 5000, 200, 1, 1, 6, 50, 0.0003, cur_gamma, True)\n",
    "    cur_gan.build_model()\n",
    "    cur_gan.train(prev_gan.gan_sampler)\n",
    "    cur_gamma = compute_gammak(cur_gan.gan_sampler(1000), 0.1)\n",
    "    prev_gan = cur_gan\n",
    "    idx += 1\n",
    "\n",
    "    "
   ]
  },
  {
   "cell_type": "code",
   "execution_count": 30,
   "metadata": {},
   "outputs": [
    {
     "data": {
      "image/png": "[encoded data removed]",
      "text/plain": [
       "<Figure size 432x288 with 1 Axes>"
      ]
     },
     "metadata": {},
     "output_type": "display_data"
    }
   ],
   "source": [
    "xs = prev_gan.gan_sampler(100000)\n",
    "n, bins, patches = plt.hist(xs, 50, alpha=0.5)"
   ]
  },
  {
   "cell_type": "code",
   "execution_count": 37,
   "metadata": {},
   "outputs": [
    {
     "name": "stdout",
     "output_type": "stream",
     "text": [
      "0.10655045509338379\n"
     ]
    }
   ],
   "source": [
    "import time\n",
    "normal_sp = compute_sp('normal')\n",
    "std_normal_sp = partial(normal_sp, mu=0.0, sigma=1.0)\n",
    "normal_barrier = compute_kernel_info('normal_barrier')\n",
    "normal_barrier_param = partial(normal_barrier, h=1.0, c=1.0, gamma=gamma_0)\n",
    "batch_x = gen_conditional_samples(200, gamma_0, gan.gan_sampler)\n",
    "start = time.time()\n",
    "Kp = compute_Kp(batch_x, std_normal_sp, normal_barrier_param)\n",
    "is_weights = np.reshape(compute_is_weights(Kp), (200, 1))\n",
    "end = time.time()\n",
    "print(end - start)\n"
   ]
  },
  {
   "cell_type": "code",
   "execution_count": 40,
   "metadata": {},
   "outputs": [
    {
     "data": {
      "text/plain": [
       "array([[1.81682108e-07],\n",
       "       [1.63785066e-07],\n",
       "       [2.68844352e-06],\n",
       "       [2.60516683e-01],\n",
       "       [3.75836373e-06],\n",
       "       [9.31938171e-06],\n",
       "       [1.11518783e-04],\n",
       "       [1.82984279e-07],\n",
       "       [3.16577017e-06],\n",
       "       [5.90254699e-09],\n",
       "       [1.14033412e-07],\n",
       "       [2.47251981e-06],\n",
       "       [7.15685860e-10],\n",
       "       [1.61050118e-05],\n",
       "       [3.09546082e-07],\n",
       "       [1.75892645e-06],\n",
       "       [5.33726350e-08],\n",
       "       [2.13111481e-08],\n",
       "       [6.44517221e-07],\n",
       "       [4.15729638e-08],\n",
       "       [4.14460838e-05],\n",
       "       [8.47201321e-09],\n",
       "       [5.65795439e-07],\n",
       "       [1.70915120e-07],\n",
       "       [1.61236344e-07],\n",
       "       [5.63163314e-07],\n",
       "       [2.14896984e-07],\n",
       "       [3.84304619e-08],\n",
       "       [6.68854953e-07],\n",
       "       [2.37409615e-04],\n",
       "       [2.85738962e-06],\n",
       "       [2.66375452e-07],\n",
       "       [1.91301893e-07],\n",
       "       [6.24485675e-06],\n",
       "       [5.43988514e-03],\n",
       "       [1.32927353e-05],\n",
       "       [5.54551044e-08],\n",
       "       [1.02133837e-08],\n",
       "       [1.45264707e-06],\n",
       "       [3.13940185e-08],\n",
       "       [1.80780684e-07],\n",
       "       [6.88651199e-08],\n",
       "       [3.21245595e-06],\n",
       "       [5.58041672e-07],\n",
       "       [1.87021977e-06],\n",
       "       [1.92886201e-07],\n",
       "       [4.66232003e-06],\n",
       "       [4.26736174e-06],\n",
       "       [6.77452053e-10],\n",
       "       [1.77952479e-06],\n",
       "       [7.80463338e-07],\n",
       "       [7.25330396e-06],\n",
       "       [6.90610854e-05],\n",
       "       [2.05242438e-08],\n",
       "       [8.55979278e-07],\n",
       "       [1.97815923e-05],\n",
       "       [1.54259838e-02],\n",
       "       [1.14374318e-06],\n",
       "       [2.44114472e-08],\n",
       "       [1.60038648e-07],\n",
       "       [4.15837955e-06],\n",
       "       [3.49809762e-07],\n",
       "       [1.14112045e-06],\n",
       "       [1.96578291e-08],\n",
       "       [2.17323861e-07],\n",
       "       [2.51693070e-06],\n",
       "       [5.25971298e-07],\n",
       "       [3.96636010e-06],\n",
       "       [1.63993025e-07],\n",
       "       [2.38260687e-07],\n",
       "       [1.64361403e-03],\n",
       "       [1.98757435e-08],\n",
       "       [8.69834638e-06],\n",
       "       [2.75594651e-06],\n",
       "       [1.13898203e-06],\n",
       "       [5.87990639e-09],\n",
       "       [6.48868122e-07],\n",
       "       [6.89386017e-07],\n",
       "       [1.74622768e-06],\n",
       "       [1.63305252e-07],\n",
       "       [2.03081669e-06],\n",
       "       [1.88836537e-07],\n",
       "       [1.20767927e-09],\n",
       "       [1.29951785e-06],\n",
       "       [1.59271453e-07],\n",
       "       [7.26409402e-07],\n",
       "       [3.42157059e-06],\n",
       "       [1.84847346e-03],\n",
       "       [4.85149091e-07],\n",
       "       [6.57866872e-07],\n",
       "       [1.63596755e-06],\n",
       "       [1.24641692e-06],\n",
       "       [1.78614028e-07],\n",
       "       [4.59900815e-07],\n",
       "       [2.98342848e-08],\n",
       "       [3.95190653e-08],\n",
       "       [1.64366934e-07],\n",
       "       [8.95932205e-12],\n",
       "       [1.94352557e-05],\n",
       "       [2.00333845e-01],\n",
       "       [3.18477357e-07],\n",
       "       [3.74834031e-06],\n",
       "       [1.37841584e-01],\n",
       "       [5.03063552e-06],\n",
       "       [1.74549344e-07],\n",
       "       [2.04053733e-07],\n",
       "       [7.27830071e-02],\n",
       "       [2.73201327e-05],\n",
       "       [1.59498509e-07],\n",
       "       [4.32372577e-07],\n",
       "       [6.79286811e-10],\n",
       "       [7.37259078e-06],\n",
       "       [1.88343469e-07],\n",
       "       [7.21004470e-07],\n",
       "       [2.64729878e-06],\n",
       "       [1.21264433e-06],\n",
       "       [8.16828013e-06],\n",
       "       [2.50004535e-06],\n",
       "       [1.59021578e-07],\n",
       "       [2.64685022e-08],\n",
       "       [7.89219825e-07],\n",
       "       [1.65388087e-07],\n",
       "       [2.04561083e-08],\n",
       "       [2.80985603e-09],\n",
       "       [3.54739335e-04],\n",
       "       [1.84828719e-07],\n",
       "       [3.84760322e-06],\n",
       "       [2.60526528e-06],\n",
       "       [5.27467731e-07],\n",
       "       [4.21455413e-06],\n",
       "       [1.59819472e-07],\n",
       "       [1.01378024e-06],\n",
       "       [9.75553064e-03],\n",
       "       [5.95001325e-07],\n",
       "       [1.23822795e-06],\n",
       "       [2.82798252e-06],\n",
       "       [3.29792387e-08],\n",
       "       [2.67885346e-06],\n",
       "       [4.29916733e-07],\n",
       "       [2.27083890e-08],\n",
       "       [2.00048876e-08],\n",
       "       [1.65264215e-07],\n",
       "       [1.34526963e-07],\n",
       "       [3.23418551e-02],\n",
       "       [8.49845619e-09],\n",
       "       [9.23894589e-10],\n",
       "       [4.75902442e-08],\n",
       "       [4.23034186e-06],\n",
       "       [2.78262883e-08],\n",
       "       [3.26348523e-07],\n",
       "       [1.95344534e-08],\n",
       "       [3.03676078e-02],\n",
       "       [2.08197839e-08],\n",
       "       [5.28370078e-07],\n",
       "       [3.01886084e-06],\n",
       "       [1.59439119e-07],\n",
       "       [2.80932206e-07],\n",
       "       [3.32732416e-07],\n",
       "       [1.59904931e-07],\n",
       "       [6.71318390e-07],\n",
       "       [2.90969140e-07],\n",
       "       [2.33386184e-07],\n",
       "       [6.33413689e-06],\n",
       "       [8.17596220e-10],\n",
       "       [1.14514975e-05],\n",
       "       [1.11873224e-06],\n",
       "       [6.50023575e-07],\n",
       "       [6.86410711e-07],\n",
       "       [2.30476083e-06],\n",
       "       [6.80113424e-10],\n",
       "       [6.98827819e-06],\n",
       "       [9.05513769e-08],\n",
       "       [1.63523940e-07],\n",
       "       [5.67494714e-07],\n",
       "       [1.03919654e-05],\n",
       "       [1.20672930e-08],\n",
       "       [4.02252297e-08],\n",
       "       [1.58978952e-07],\n",
       "       [8.50916960e-07],\n",
       "       [1.01983467e-06],\n",
       "       [3.78885203e-07],\n",
       "       [6.24570366e-07],\n",
       "       [1.93059427e-04],\n",
       "       [1.08459272e-06],\n",
       "       [4.28621853e-07],\n",
       "       [7.95420835e-07],\n",
       "       [1.95966723e-08],\n",
       "       [1.60412036e-07],\n",
       "       [2.51770780e-06],\n",
       "       [6.09180354e-07],\n",
       "       [6.54152781e-05],\n",
       "       [2.29833015e-07],\n",
       "       [2.20842191e-01],\n",
       "       [1.51584578e-06],\n",
       "       [5.99236386e-06],\n",
       "       [8.58971382e-07],\n",
       "       [6.41179885e-03],\n",
       "       [4.57481209e-07],\n",
       "       [2.11436903e-07],\n",
       "       [3.04823590e-03]])"
      ]
     },
     "execution_count": 40,
     "metadata": {},
     "output_type": "execute_result"
    }
   ],
   "source": [
    "is_weights"
   ]
  }
 ],
 "metadata": {
  "kernelspec": {
   "display_name": "Python 3",
   "language": "python",
   "name": "python3"
  },
  "language_info": {
   "codemirror_mode": {
    "name": "ipython",
    "version": 3
   },
   "file_extension": ".py",
   "mimetype": "text/x-python",
   "name": "python",
   "nbconvert_exporter": "python",
   "pygments_lexer": "ipython3",
   "version": "3.6.5"
  }
 },
 "nbformat": 4,
 "nbformat_minor": 2
}
