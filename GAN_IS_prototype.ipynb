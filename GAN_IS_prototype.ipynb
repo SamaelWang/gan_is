{
 "cells": [
  {
   "cell_type": "code",
   "execution_count": 1,
   "metadata": {},
   "outputs": [
    {
     "name": "stderr",
     "output_type": "stream",
     "text": [
      "/home/ben/anaconda3/lib/python3.6/site-packages/h5py/__init__.py:36: FutureWarning: Conversion of the second argument of issubdtype from `float` to `np.floating` is deprecated. In future, it will be treated as `np.float64 == np.dtype(float).type`.\n",
      "  from ._conv import register_converters as _register_converters\n"
     ]
    }
   ],
   "source": [
    "from functools import partial\n",
    "from math import exp, log\n",
    "import numpy as np\n",
    "import tensorflow as tf\n",
    "import matplotlib.pyplot as plt\n",
    "import seaborn as sns\n",
    "from scipy.stats import norm\n",
    "from cvxopt import matrix\n",
    "from cvxopt.blas import dot\n",
    "from cvxopt import solvers"
   ]
  },
  {
   "cell_type": "code",
   "execution_count": 2,
   "metadata": {},
   "outputs": [],
   "source": [
    "def gen_samples(dist_type):\n",
    "    if dist_type == 'normal':\n",
    "        def gen_norm_samples(nums, mu, sigma):\n",
    "            return np.random.randn(nums) * sigma + mu\n",
    "        return gen_norm_samples"
   ]
  },
  {
   "cell_type": "code",
   "execution_count": 3,
   "metadata": {},
   "outputs": [],
   "source": [
    "gen_norm_samples = gen_samples('normal')"
   ]
  },
  {
   "cell_type": "code",
   "execution_count": 4,
   "metadata": {},
   "outputs": [],
   "source": [
    "sample_func = partial(gen_norm_samples, mu=0.0, sigma=1.0)\n",
    "X = sample_func(100)"
   ]
  },
  {
   "cell_type": "code",
   "execution_count": 5,
   "metadata": {},
   "outputs": [],
   "source": [
    "def compute_gammak(arr_g, rho):\n",
    "    num = len(arr_g)\n",
    "    index = int(np.ceil((1-rho)*num))\n",
    "    arr_g.sort()\n",
    "    return arr_g[index - 1]"
   ]
  },
  {
   "cell_type": "code",
   "execution_count": 6,
   "metadata": {},
   "outputs": [],
   "source": [
    "gamma_0 = compute_gammak(X, 0.1)"
   ]
  },
  {
   "cell_type": "code",
   "execution_count": 7,
   "metadata": {},
   "outputs": [],
   "source": [
    "def gen_conditional_samples(num, gamma, sample_func):\n",
    "    res = np.empty((0))\n",
    "    rest_num = num\n",
    "    while rest_num > 0:\n",
    "        cur_samples = sample_func(num * 10)\n",
    "        res = np.concatenate((res, cur_samples[cur_samples > gamma]), axis=None)\n",
    "        rest_num = num - len(res)\n",
    "    return res[:num]"
   ]
  },
  {
   "cell_type": "code",
   "execution_count": 8,
   "metadata": {},
   "outputs": [],
   "source": [
    "X_0 = gen_conditional_samples(100, gamma_0, sample_func)"
   ]
  },
  {
   "cell_type": "code",
   "execution_count": 9,
   "metadata": {
    "scrolled": true
   },
   "outputs": [
    {
     "data": {
      "image/png": "[encoded data removed]",
      "text/plain": [
       "<Figure size 432x288 with 1 Axes>"
      ]
     },
     "metadata": {},
     "output_type": "display_data"
    }
   ],
   "source": [
    "# p_data\n",
    "xs = gen_conditional_samples(10000, gamma_0, sample_func)\n",
    "n, bins, patches = plt.hist(xs, 50, alpha=0.5)"
   ]
  },
  {
   "cell_type": "code",
   "execution_count": 10,
   "metadata": {},
   "outputs": [],
   "source": [
    "# one of the problem of GAN, easily to be more concentrated at \"high mode\"\n",
    "# techniques such as minibatch discrimination might help"
   ]
  },
  {
   "cell_type": "code",
   "execution_count": 11,
   "metadata": {},
   "outputs": [
    {
     "data": {
      "text/plain": [
       "1.3123987744007495"
      ]
     },
     "execution_count": 11,
     "metadata": {},
     "output_type": "execute_result"
    }
   ],
   "source": [
    "gamma_0"
   ]
  },
  {
   "cell_type": "code",
   "execution_count": 12,
   "metadata": {},
   "outputs": [],
   "source": [
    "### TODO: importance sampling GAN"
   ]
  },
  {
   "cell_type": "code",
   "execution_count": 13,
   "metadata": {},
   "outputs": [],
   "source": [
    "# currently we focus on one dimension normal random variable, g(X) = X\n",
    "# barrier func should be e^{-(x-y)^2}/2h-c/2(log(x-gamma)-log(y-gamma))^2\n",
    "def compute_sp(dist_type):\n",
    "    if dist_type == 'normal':\n",
    "        def normal_sp(x, mu, sigma):\n",
    "            return -(x-mu)/(2.0*sigma**2)\n",
    "        return normal_sp"
   ]
  },
  {
   "cell_type": "code",
   "execution_count": 14,
   "metadata": {},
   "outputs": [],
   "source": [
    "def compute_kernel_info(kernel_type):\n",
    "    if kernel_type == 'normal_barrier':\n",
    "        def normal_barrier(x, y, h, c, gamma):   #TODO: g(x) might be needed in the future, SymPy might be useful to compute symbolic derivative\n",
    "            kernel_info = {}\n",
    "            kernel_info['kernel'] = np.exp(-(x-y)*(x-y)/(2.0*h)-(c*(np.log(x-gamma)-np.log(y-gamma))*(np.log(x-gamma)-np.log(y-gamma)))/2.0)\n",
    "            kernel_info['grad_x'] = kernel_info['kernel'] * (-(x-y)/h-c*(np.log(x-gamma)-np.log(y-gamma))/(x-gamma))\n",
    "            kernel_info['grad_y'] = kernel_info['kernel'] * ((x-y)/h+c*(np.log(x-gamma)-np.log(y-gamma))/(y-gamma))\n",
    "            kernel_info['hessian'] = kernel_info['grad_y']*(-(x-y)/h-c*(np.log(x-gamma)-np.log(y-gamma))/(x-gamma)) +\\\n",
    "            kernel_info['kernel']*(1.0/h+c/((x-gamma)*(y-gamma)))\n",
    "            return kernel_info\n",
    "        return normal_barrier"
   ]
  },
  {
   "cell_type": "code",
   "execution_count": 15,
   "metadata": {},
   "outputs": [],
   "source": [
    "# compute kernel p\n",
    "def compute_kernel_p(x, y, sp, kernel_info):\n",
    "    kernel_vals = kernel_info(x,y)\n",
    "    kernel = kernel_vals['kernel']\n",
    "    grad_x = kernel_vals['grad_x']\n",
    "    grad_y = kernel_vals['grad_y']\n",
    "    hessian_kernel = kernel_vals['hessian']\n",
    "    return sp(x)*kernel*sp(y) + sp(x)*grad_y + sp(y)*grad_x + hessian_kernel"
   ]
  },
  {
   "cell_type": "code",
   "execution_count": 16,
   "metadata": {},
   "outputs": [],
   "source": [
    "# compute blackbox importance weights"
   ]
  },
  {
   "cell_type": "code",
   "execution_count": 17,
   "metadata": {},
   "outputs": [],
   "source": [
    "def compute_Kp(samples, sp_input, ki_input):\n",
    "    n = len(samples)\n",
    "    Kp = np.zeros((n,n))\n",
    "    p_kernel = partial(compute_kernel_p, sp=sp_input, kernel_info=ki_input)\n",
    "    idx = np.array([[i, j] for i in range(n) for j in range(i, n)])\n",
    "    s1 = samples[idx[:,0]]\n",
    "    s2 = samples[idx[:,1]]\n",
    "    res = p_kernel(s1, s2)\n",
    "    Kp[np.triu_indices(n)] = res\n",
    "    Kp = matrix(Kp.T+Kp-np.diag(np.diag(Kp)))\n",
    "    return Kp"
   ]
  },
  {
   "cell_type": "code",
   "execution_count": 18,
   "metadata": {},
   "outputs": [],
   "source": [
    "def compute_is_weights(Kp):\n",
    "    n = Kp.size[0]\n",
    "    p = matrix(0.0, (n,1))\n",
    "    G = matrix(0.0, (n,n))\n",
    "    G[::n+1] = -1.0\n",
    "    h = matrix(0.0, (n,1))\n",
    "    A = matrix(1.0, (1,n))\n",
    "    b = matrix(1.0)\n",
    "    res = solvers.qp(Kp, p, G, h, A, b)\n",
    "    wi = np.array(res['x'])\n",
    "    return wi"
   ]
  },
  {
   "cell_type": "code",
   "execution_count": 19,
   "metadata": {},
   "outputs": [],
   "source": [
    "solvers.options['show_progress'] = False"
   ]
  },
  {
   "cell_type": "code",
   "execution_count": 20,
   "metadata": {},
   "outputs": [],
   "source": [
    "class ISGAN(object):\n",
    "    \n",
    "    def __init__(self, gan_id, sess, total_epoch, batch_size, n_input, n_noise, n_hidden, early_stopping_rounds, learning_rate, gamma_0, is_enabled):\n",
    "        self.gan_id = gan_id\n",
    "        self.sess = sess\n",
    "        self.total_epoch = total_epoch\n",
    "        self.batch_size = batch_size\n",
    "        self.n_input = n_input\n",
    "        self.n_noise = n_noise\n",
    "        self.n_hidden = n_hidden\n",
    "        self.early_stopping_rounds = early_stopping_rounds\n",
    "        self.learning_rate = learning_rate\n",
    "        self.gamma_0 = gamma_0\n",
    "        self.is_enabled = is_enabled\n",
    "        if self.is_enabled:\n",
    "            normal_sp = compute_sp('normal')\n",
    "            self.std_normal_sp = partial(normal_sp, mu=0.0, sigma=1.0)\n",
    "            normal_barrier = compute_kernel_info('normal_barrier')\n",
    "            self.normal_barrier_param = partial(normal_barrier, h=1.0, c=1.0, gamma=self.gamma_0)\n",
    "        \n",
    "    def generator(self, noise_z):\n",
    "        with tf.variable_scope('generator' + self.gan_id) :\n",
    "            hidden_1 = tf.layers.dense(inputs=noise_z, units=self.n_hidden, activation=tf.nn.relu)\n",
    "            hidden_2 = tf.layers.dense(inputs=hidden_1, units=self.n_hidden, activation=tf.nn.relu)\n",
    "            output = tf.layers.dense(inputs=hidden_2, units=self.n_input, activation=tf.nn.softplus)\n",
    "        return output\n",
    "\n",
    "    def discriminator(self, inputs, reuse=None):\n",
    "        with tf.variable_scope('discriminator' + self.gan_id) as scope:\n",
    "            # In order to make the variables of the models that discriminate the actual image from the images generated by the noise the same,\n",
    "            # Reuse the previously used variables.\n",
    "\n",
    "            if reuse :\n",
    "                scope.reuse_variables()\n",
    "\n",
    "            hidden = tf.layers.dense(inputs=inputs, units=self.n_hidden, activation=tf.nn.relu)\n",
    "            output = tf.layers.dense(inputs=hidden, units=self.n_input, activation=tf.nn.sigmoid)\n",
    "        return output\n",
    "\n",
    "    def get_noise(self, batch_size, n_noise) :\n",
    "        #return (np.random.random(size=(batch_size, n_noise))-0.5)*2.0\n",
    "        return np.random.normal(size=(batch_size, n_noise))\n",
    "    \n",
    "    def build_model(self):\n",
    "        # input X\n",
    "        self.X = tf.placeholder(tf.float32, [None, self.n_input])\n",
    "        # Use noise Z as input value.\n",
    "        self.Z = tf.placeholder(tf.float32, [None, self.n_noise])\n",
    "        # Importance weights W\n",
    "        self.W = tf.placeholder(tf.float32, [None, self.n_input])\n",
    "        self.G = self.generator(self.Z)\n",
    "        # Returns the value determined using the real image.\n",
    "        self.D_real = tf.maximum(tf.minimum(self.discriminator(self.X), 0.99), 0.01)\n",
    "        # Returns a value that determines whether the image created using noise is a real image.\n",
    "        self.D_gene = tf.maximum(tf.minimum(self.discriminator(self.G, reuse=True), 0.99), 0.01)\n",
    "        self.loss_D = tf.reduce_mean(tf.multiply(tf.log(self.D_real), self.W) + tf.log(1 - self.D_gene))\n",
    "        #tf.summary.scalar('loss_D', -self.loss_D)\n",
    "        self.loss_G = tf.reduce_mean(tf.log(self.D_gene))\n",
    "        #tf.summary.scalar('loss_G', -self.loss_G)\n",
    "        # When loss_D is obtained, only variables used in the generator neural network are used,\n",
    "        vars_D = tf.get_collection(tf.GraphKeys.TRAINABLE_VARIABLES, scope='discriminator' + self.gan_id)\n",
    "        vars_G = tf.get_collection(tf.GraphKeys.TRAINABLE_VARIABLES, scope='generator' + self.gan_id)\n",
    "        # According to the GAN thesis formula, the loss should be maximized, but since the optimization function is used to minimize it, a negative sign is added to loss_D and loss_G to be optimized.\n",
    "        self.train_D = tf.train.GradientDescentOptimizer(learning_rate=self.learning_rate).minimize(-self.loss_D, var_list=vars_D)\n",
    "        #train_D = tf.train.AdamOptimizer(learning_rate=learning_rate).minimize(-loss_D, var_list=vars_D)\n",
    "        self.train_G = tf.train.AdamOptimizer(learning_rate=self.learning_rate).minimize(-self.loss_G, var_list=vars_G)\n",
    "        \n",
    "    \n",
    "    def train(self, sampling_func):\n",
    "        self.histd, self.histg = [], []\n",
    "        # Start training !\n",
    "        k = 4\n",
    "        self.sess.run(tf.global_variables_initializer())\n",
    "        loss_val_D, loss_val_G = 0.0, 0.0\n",
    "        prev_avg_D_cost = 0.0\n",
    "        prev_avg_G_cost = 0.0\n",
    "        for epoch in range(self.total_epoch):\n",
    "            avg_D_cost = 0.0\n",
    "            avg_G_cost = 0.0\n",
    "            for i in range(self.early_stopping_rounds):\n",
    "                for j in range(k):\n",
    "                    batch_x = gen_conditional_samples(self.batch_size, self.gamma_0, sampling_func)\n",
    "                    batch_x.sort() # it's better to sort the data first\n",
    "                    if self.is_enabled == True:\n",
    "                        Kp = compute_Kp(batch_x, self.std_normal_sp, self.normal_barrier_param)\n",
    "                        is_weights = np.reshape(compute_is_weights(Kp)*self.batch_size, (self.batch_size, 1))\n",
    "                    else:\n",
    "                        is_weights = np.ones((self.batch_size, 1))\n",
    "                    noise = self.get_noise(self.batch_size, self.n_noise)\n",
    "                    noise.sort(axis=0)\n",
    "                    # It learns discriminator and generator neural network separately.\n",
    "                    _, loss_val_D = self.sess.run([self.train_D, self.loss_D],\n",
    "                                                 feed_dict={self.X : np.reshape(batch_x, (self.batch_size, 1)), self.Z : noise, self.W: is_weights})\n",
    "                    # replace np.ones with other weights\n",
    "                self.histd.append(loss_val_D)\n",
    "                noise = self.get_noise(self.batch_size, self.n_noise)\n",
    "                noise.sort(axis=0)\n",
    "                _, loss_val_G = self.sess.run([self.train_G, self.loss_G],\n",
    "                                             feed_dict={self.Z : noise})\n",
    "                self.histg.append(loss_val_G)\n",
    "                avg_D_cost += loss_val_D / self.early_stopping_rounds\n",
    "                avg_G_cost += loss_val_G / self.early_stopping_rounds\n",
    "                #if (epoch*self.early_stopping_rounds+i) % (self.total_epoch * self.early_stopping_rounds//10) == 0:\n",
    "                #    print(float(epoch*self.early_stopping_rounds+i)/float(self.total_epoch * self.early_stopping_rounds))\n",
    "            # early stopping logic\n",
    "            if np.abs(prev_avg_D_cost - avg_D_cost) < 0.0001 and np.abs(prev_avg_G_cost - avg_G_cost) < 0.0001:\n",
    "                print(\"Stopping early, epoch = \", epoch)\n",
    "                break\n",
    "            prev_avg_D_cost = avg_D_cost\n",
    "            prev_avg_G_cost = avg_G_cost\n",
    "            if epoch % 10 == 0:\n",
    "                print(epoch)\n",
    "            #summary = sess.run(merged, feed_dict={X: np.reshape(batch_x, (batch_size, 1)), Z: noise})\n",
    "            #writer.add_summary(summary, global_step=epoch)\n",
    "                \n",
    "    \n",
    "    def gan_sampler(self, n):\n",
    "        if n < self.batch_size:\n",
    "            z = self.get_noise(self.batch_size, self.n_noise)\n",
    "            gs = self.sess.run(self.G, {self.Z:z})\n",
    "            return gs[:n][:,0]\n",
    "        else:\n",
    "            gs = np.zeros((n,self.n_input))\n",
    "            div = n // self.batch_size\n",
    "            rem = n % self.batch_size\n",
    "            for i in range(div):\n",
    "                z = self.get_noise(self.batch_size, 1)\n",
    "                gs[self.batch_size*i:self.batch_size*(i+1)] = self.sess.run(self.G, {self.Z:z})\n",
    "            z = self.get_noise(rem, self.n_noise)\n",
    "            gs[div*self.batch_size:] = self.sess.run(self.G, {self.Z:z})\n",
    "            return gs[:,0]"
   ]
  },
  {
   "cell_type": "code",
   "execution_count": 25,
   "metadata": {},
   "outputs": [
    {
     "name": "stdout",
     "output_type": "stream",
     "text": [
      "0\n",
      "10\n",
      "20\n",
      "30\n",
      "40\n",
      "50\n",
      "60\n",
      "70\n",
      "80\n",
      "90\n",
      "100\n",
      "Stopping early, epoch =  104\n"
     ]
    },
    {
     "data": {
      "image/png": "[encoded data removed]",
      "text/plain": [
       "<Figure size 432x288 with 1 Axes>"
      ]
     },
     "metadata": {},
     "output_type": "display_data"
    }
   ],
   "source": [
    "tf.reset_default_graph()\n",
    "with tf.Session() as sess:\n",
    "    gan = ISGAN('-1', sess, 5000, 200, 1, 1, 6, 50, 0.0003, gamma_0, False)\n",
    "    gan.build_model()\n",
    "    gan.train(sample_func) # input is weights\n",
    "    gs = gan.gan_sampler(100000)\n",
    "    n, bins, patches = plt.hist(gs, 50, alpha=0.5)"
   ]
  },
  {
   "cell_type": "code",
   "execution_count": 26,
   "metadata": {},
   "outputs": [
    {
     "data": {
      "text/plain": [
       "<matplotlib.legend.Legend at 0x7f52318848d0>"
      ]
     },
     "execution_count": 26,
     "metadata": {},
     "output_type": "execute_result"
    },
    {
     "data": {
      "image/png": "[encoded data removed]",
      "text/plain": [
       "<Figure size 432x288 with 1 Axes>"
      ]
     },
     "metadata": {},
     "output_type": "display_data"
    }
   ],
   "source": [
    "plt.plot(range(len(gan.histd)), gan.histd, label='obj_d')\n",
    "plt.plot(range(len(gan.histg)), gan.histg, label='obj_g')\n",
    "plt.legend()"
   ]
  },
  {
   "cell_type": "code",
   "execution_count": 21,
   "metadata": {},
   "outputs": [
    {
     "name": "stdout",
     "output_type": "stream",
     "text": [
      "0\n",
      "10\n",
      "20\n",
      "30\n",
      "40\n",
      "50\n",
      "60\n",
      "70\n",
      "80\n",
      "90\n",
      "Stopping early, epoch =  93\n",
      "0\n",
      "10\n",
      "20\n",
      "30\n",
      "40\n",
      "50\n",
      "Stopping early, epoch =  58\n",
      "0\n",
      "10\n",
      "20\n",
      "30\n",
      "40\n",
      "50\n",
      "60\n",
      "70\n",
      "80\n",
      "Stopping early, epoch =  84\n"
     ]
    }
   ],
   "source": [
    "gamma = 5\n",
    "X = sample_func(1000)\n",
    "gamma_0 = compute_gammak(X, 0.1)\n",
    "X_0 = gen_conditional_samples(1000, gamma_0, sample_func)\n",
    "sess_list = []\n",
    "sess0 = tf.Session()\n",
    "sess_list.append(sess0)\n",
    "gan = ISGAN('0', sess0, 5000, 200, 1, 1, 6, 50, 0.0003, gamma_0, False)\n",
    "gan.build_model()\n",
    "gan.train(sample_func)\n",
    "X_theta0 = gan.gan_sampler(1000)\n",
    "cur_gamma = compute_gammak(X_theta0, 0.1)\n",
    "idx = 1\n",
    "prev_gan = gan\n",
    "while cur_gamma < gamma:\n",
    "#X_theta1 = gen_conditional_samples(1000, cur_gamma, gan.gan_sampler)\n",
    "#conditional_gan_sampler = partial(gen_conditional_samples, gamma=cur_gamma, sample_func=gan.gan_sampler)\n",
    "    cur_sess = tf.Session()\n",
    "    sess_list.append(cur_sess)\n",
    "    cur_gan = ISGAN(str(idx), cur_sess, 5000, 200, 1, 1, 6, 50, 0.0003, cur_gamma, True)\n",
    "    cur_gan.build_model()\n",
    "    cur_gan.train(prev_gan.gan_sampler)\n",
    "    cur_gamma = compute_gammak(cur_gan.gan_sampler(1000), 0.1)\n",
    "    prev_gan = cur_gan\n",
    "    idx += 1\n",
    "\n",
    "    "
   ]
  },
  {
   "cell_type": "code",
   "execution_count": 32,
   "metadata": {
    "scrolled": true
   },
   "outputs": [
    {
     "data": {
      "image/png": "[encoded data removed]",
      "text/plain": [
       "<Figure size 432x288 with 1 Axes>"
      ]
     },
     "metadata": {},
     "output_type": "display_data"
    }
   ],
   "source": [
    "# samples of P_{theta_m+1} approximation of P(|g(X) > gamma)\n",
    "xs = cur_gan.gan_sampler(1000)\n",
    "n, bins, patches = plt.hist(xs, 50, alpha=0.5)"
   ]
  },
  {
   "cell_type": "code",
   "execution_count": 26,
   "metadata": {},
   "outputs": [
    {
     "data": {
      "text/plain": [
       "array([1., 1., 1., ..., 1., 1., 1.])"
      ]
     },
     "execution_count": 26,
     "metadata": {},
     "output_type": "execute_result"
    }
   ],
   "source": [
    "normal_sp = compute_sp('normal')\n",
    "std_normal_sp = partial(normal_sp, mu=0.0, sigma=1.0)\n",
    "normal_barrier = compute_kernel_info('normal_barrier')\n",
    "normal_barrier_param = partial(normal_barrier, h=1.0, c=0.0, gamma=5)\n",
    "n = 10000\n",
    "xs = cur_gan.gan_sampler(n)\n",
    "Kp = compute_Kp(xs, std_normal_sp, normal_barrier_param)\n",
    "is_weights = np.reshape(compute_is_weights(Kp), (n, 1))\n"
   ]
  },
  {
   "cell_type": "code",
   "execution_count": 28,
   "metadata": {},
   "outputs": [
    {
     "data": {
      "text/plain": [
       "array([[4.96399691e-09],\n",
       "       [1.92536789e-10],\n",
       "       [7.38093620e-10],\n",
       "       [2.49150336e-10],\n",
       "       [1.66842387e-10],\n",
       "       [5.29150307e-09],\n",
       "       [1.95341692e-10],\n",
       "       [3.98834195e-08],\n",
       "       [2.02683098e-10],\n",
       "       [1.19200396e-09]])"
      ]
     },
     "execution_count": 28,
     "metadata": {},
     "output_type": "execute_result"
    }
   ],
   "source": [
    "is_weights[0:10]"
   ]
  },
  {
   "cell_type": "code",
   "execution_count": 27,
   "metadata": {},
   "outputs": [
    {
     "data": {
      "text/plain": [
       "array([1.])"
      ]
     },
     "execution_count": 27,
     "metadata": {},
     "output_type": "execute_result"
    }
   ],
   "source": [
    "y = (xs > 5).astype(int)\n",
    "np.dot(y, is_weights)"
   ]
  },
  {
   "cell_type": "code",
   "execution_count": 37,
   "metadata": {},
   "outputs": [
    {
     "name": "stdout",
     "output_type": "stream",
     "text": [
      "0.10655045509338379\n"
     ]
    }
   ],
   "source": [
    "import time\n",
    "normal_sp = compute_sp('normal')\n",
    "std_normal_sp = partial(normal_sp, mu=0.0, sigma=1.0)\n",
    "normal_barrier = compute_kernel_info('normal_barrier')\n",
    "normal_barrier_param = partial(normal_barrier, h=1.0, c=1.0, gamma=gamma_0)\n",
    "batch_x = gen_conditional_samples(200, gamma_0, gan.gan_sampler)\n",
    "start = time.time()\n",
    "Kp = compute_Kp(batch_x, std_normal_sp, normal_barrier_param)\n",
    "is_weights = np.reshape(compute_is_weights(Kp), (200, 1))\n",
    "end = time.time()\n",
    "print(end - start)\n"
   ]
  }
 ],
 "metadata": {
  "kernelspec": {
   "display_name": "Python 3",
   "language": "python",
   "name": "python3"
  },
  "language_info": {
   "codemirror_mode": {
    "name": "ipython",
    "version": 3
   },
   "file_extension": ".py",
   "mimetype": "text/x-python",
   "name": "python",
   "nbconvert_exporter": "python",
   "pygments_lexer": "ipython3",
   "version": "3.6.5"
  }
 },
 "nbformat": 4,
 "nbformat_minor": 2
}
